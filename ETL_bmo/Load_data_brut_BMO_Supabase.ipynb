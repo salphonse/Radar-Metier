{
 "cells": [
  {
   "cell_type": "code",
   "execution_count": null,
   "id": "4061e9a9",
   "metadata": {},
   "outputs": [],
   "source": [
    "!python -m pip install --upgrade pip\n",
    "!python -m pip install beautifulsoup4\n",
    "!python -m pip install supabase"
   ]
  },
  {
   "cell_type": "code",
   "execution_count": null,
   "id": "3d700642",
   "metadata": {},
   "outputs": [],
   "source": [
    "import requests\n",
    "from bs4 import BeautifulSoup\n",
    "import io\n",
    "import zipfile\n",
    "import os\n",
    "from supabase import create_client, Client\n",
    "from dotenv import load_dotenv"
   ]
  },
  {
   "cell_type": "code",
   "execution_count": null,
   "id": "dbd2e3f2",
   "metadata": {},
   "outputs": [],
   "source": [
    "# === Chargement des variables d'environnement ===\n",
    "load_dotenv(\"settings/.env\")\n",
    "\n",
    "# === Configuration Supabase ===\n",
    "S3_URL = os.getenv(\"S3_ENDPOINT_URL\")\n",
    "S3_KEY = os.getenv(\"S3_ACCESS_KEY_ID\")\n",
    "S3_BUCKET_NAME = \"raw-data\"\n",
    "FOLDER = \"BMO\"\n",
    "FOLDER_FAP = \"FAP2021_CORRESPOND_ROME\"\n",
    "\n",
    "if not S3_URL or not S3_KEY:\n",
    "    raise ValueError(\"Les variables SUPABASE_URL ou SUPABASE_KEY ne sont pas définies dans le fichier .env\")\n"
   ]
  },
  {
   "cell_type": "code",
   "execution_count": 14,
   "id": "53b5e77f",
   "metadata": {},
   "outputs": [
    {
     "name": "stdout",
     "output_type": "stream",
     "text": [
      "démarrage\n"
     ]
    }
   ],
   "source": [
    "# Connexion Supabase\n",
    "supabase: Client = create_client(S3_URL, S3_KEY)\n",
    "\n",
    "print(\"démarrage\")"
   ]
  },
  {
   "cell_type": "code",
   "execution_count": 16,
   "id": "1cd4445a",
   "metadata": {},
   "outputs": [
    {
     "name": "stdout",
     "output_type": "stream",
     "text": [
      "Page chargée\n"
     ]
    }
   ],
   "source": [
    "#1. LOAD fichiers bruts Besoin Main d'Oeuvre via France Travail\n",
    "# URL de la page contenant les fichiers Excel et ZIP\n",
    "url = \"https://www.francetravail.org/opendata/enquete-besoins-en-main-doeuvre.html?type=article\"\n",
    "response = requests.get(url)\n",
    "soup = BeautifulSoup(response.text, \"html.parser\")\n",
    "\n",
    "print(\"Page chargée\")\n",
    "\n",
    "# Récupérer les liens vers fichiers .xlsx et .zip\n",
    "fichiers_links = []\n",
    "for link in soup.find_all(\"a\", href=True):\n",
    "    href = link['href']\n",
    "    if \".xlsx\" in href or \".zip\" in href:\n",
    "        if href.startswith(\"http\"):\n",
    "            fichiers_links.append(href)\n",
    "        else:\n",
    "            fichiers_links.append(\"https://www.francetravail.org\" + href)\n"
   ]
  },
  {
   "cell_type": "code",
   "execution_count": null,
   "id": "e67a873e",
   "metadata": {},
   "outputs": [
    {
     "name": "stdout",
     "output_type": "stream",
     "text": [
      "Téléchargement : Base_open_data_BMO_2025.xlsx\n",
      "Base_open_data_BMO_2025.xlsx -> Upload réussi \n",
      "Téléchargement : Donnees_consolidees_2024.zip\n",
      "Extraction et upload du fichier Excel : Donnees_consolidees_2024/Base_open_data_BMO_2024.xlsx\n",
      "Base_open_data_BMO_2024.xlsx -> Upload réussi \n",
      "Téléchargement : Donnees_consolidees_2023.zip\n",
      "Extraction et upload du fichier Excel : Base_open_data_23.xlsx\n",
      "Base_open_data_23.xlsx -> Upload réussi \n",
      "Téléchargement : Donnees_consolidees_2022.zip\n",
      "Extraction et upload du fichier Excel : Base_open_data_22_def.xlsx\n",
      "Base_open_data_22_def.xlsx -> Upload réussi \n",
      "Téléchargement : Donnees_consolidees_2021.zip\n",
      "Extraction et upload du fichier Excel : Base_open_data_21_def.xlsx\n",
      "Base_open_data_21_def.xlsx -> Upload réussi \n",
      "Téléchargement : donnees_consolidees_2020.zip\n",
      "Extraction et upload du fichier Excel : ResMetBE20.xlsx\n",
      "ResMetBE20.xlsx -> Upload réussi \n",
      "Téléchargement : donnees_consolidees_2019.zip\n",
      "Extraction et upload du fichier Excel : ResMetBE19.xlsx\n",
      "ResMetBE19.xlsx -> Upload réussi \n",
      "Téléchargement : donnees_consolidees_2018.zip\n",
      "Extraction et upload du fichier Excel : ResMetBE18.xlsx\n",
      "ResMetBE18.xlsx -> Upload réussi \n",
      "Téléchargement : donnees_consolidees_2017.zip\n",
      "Extraction et upload du fichier Excel : ResMetBE17.xlsx\n",
      "ResMetBE17.xlsx -> Upload réussi \n",
      "Téléchargement : donnees_consolidees_2016.zip\n",
      "Extraction et upload du fichier Excel : ResMetBE16.xlsx\n",
      "ResMetBE16.xlsx -> Upload réussi \n",
      "Téléchargement : donnees_consolidees_2015.zip\n",
      "\n",
      " Chargement des fichiers terminé\n"
     ]
    }
   ],
   "source": [
    "# Fonction pour uploader un fichier sur Supabase depuis un contenu en mémoire\n",
    "def upload_to_supabase(filename: str, content: bytes):\n",
    "    try:\n",
    "        response = supabase.storage.from_(S3_BUCKET_NAME).upload(\n",
    "            f\"{FOLDER}/{filename}\",\n",
    "            content,\n",
    "            {\n",
    "                \"content-type\": \"application/vnd.openxmlformats-officedocument.spreadsheetml.sheet\",\n",
    "                \"x-upsert\": \"true\"\n",
    "            }\n",
    "        )\n",
    "        \n",
    "        print(f\"{filename} -> Upload réussi \")\n",
    "    except Exception as e:\n",
    "        print(f\"Erreur lors de l'upload de {filename} : {e}\")\n",
    "\n",
    "# Traitement des fichiers\n",
    "for link in fichiers_links:\n",
    "    raw_filename = link.split(\"/\")[-1]\n",
    "    filename_clean = raw_filename.split(\"?\")[0]\n",
    "    print(f\"Téléchargement : {filename_clean}\")\n",
    "\n",
    "    resp = requests.get(link)\n",
    "    if resp.status_code == 200:\n",
    "        if filename_clean.endswith(\".zip\"):\n",
    "            try:\n",
    "                with zipfile.ZipFile(io.BytesIO(resp.content)) as zip_ref:\n",
    "                    for file_in_zip in zip_ref.namelist():\n",
    "                        if file_in_zip.endswith(\".xlsx\"):\n",
    "                            print(f\"Extraction et upload du fichier Excel : {file_in_zip}\")\n",
    "                            with zip_ref.open(file_in_zip) as extracted_file:\n",
    "                                file_bytes = extracted_file.read()\n",
    "                                upload_to_supabase(file_in_zip.split(\"/\")[-1], file_bytes)\n",
    "            except zipfile.BadZipFile:\n",
    "                print(f\"Erreur : fichier ZIP corrompu - {filename_clean}\")\n",
    "        elif filename_clean.endswith(\".xlsx\"):\n",
    "            # Upload direct du fichier xlsx\n",
    "            upload_to_supabase(filename_clean, resp.content)\n",
    "        else:\n",
    "            print(f\"Fichier ignoré (pas .xlsx ni .zip) : {filename_clean}\")\n",
    "    else:\n",
    "        print(f\"Erreur lors du téléchargement de : {link}\")\n",
    "\n",
    "print(\"\\nChargement des fichiers terminé\")\n"
   ]
  },
  {
   "cell_type": "code",
   "execution_count": null,
   "id": "54c1454b",
   "metadata": {},
   "outputs": [],
   "source": [
    "#2. LOAD du fichier de correspondance entre les codes_metier_bmo et code_rome_metier par le fichier: Dares_FAP2021_Table_passage_ROME \n",
    "\n",
    "# URL où se situe le fichier Excel\n",
    "excel_url = \"https://dares.travail-emploi.gouv.fr/donnees/la-nomenclature-des-familles-professionnelles-2021\"\n",
    "#\"https://www.francetravail.org/sites/default/files/f83237de4f41868cb73b0e1aafe4800c/Dares_FAP2021_Table_passage_ROME.xlsx\"\n",
    "\n",
    "resp = requests.get(excel_url)\n",
    "soup_exc = BeautifulSoup(resp.text, \"html.parser\")\n",
    "print(\"Page chargée\")\n",
    "\n",
    "# Récupération du fichier cible: href=\"/sites/default/files/f83237de4f41868cb73b0e1aafe4800c/Dares_FAP2021_Table_passage_ROME.xlsx\n",
    "href_cible = \"/sites/default/files/f83237de4f41868cb73b0e1aafe4800c/Dares_FAP2021_Table_passage_ROME.xlsx\"\n",
    "\n",
    "lien = soup_exc.find(\"a\", href=href_cible)\n",
    "if lien:\n",
    "    url_fichier = \"https://www.dares.travail-emploi.gouv.fr\" + href_cible\n",
    "    print(\"Lien trouvé :\", url_fichier)\n",
    "\n",
    "    fichier_resp = requests.get(url_fichier)\n",
    "    if fichier_resp.status_code == 200:\n",
    "        file_excel = fichier_resp.content\n",
    "\n",
    "# Upload du fichier dans Supabase Storage\n",
    "    chemin_dans_bucket = f\"{FOLDER_FAP}/Dares_FAP2021_Table_passage_ROME.xlsx\"\n",
    "\n",
    "    upload_response = supabase.storage.from_(S3_BUCKET_NAME).upload(\n",
    "        chemin_dans_bucket,\n",
    "        file_excel,\n",
    "        {\n",
    "            \"content-type\": \"application/vnd.openxmlformats-officedocument.spreadsheetml.sheet\"\n",
    "            },\n",
    "    )\n",
    "\n",
    "    print(\"Fichier uploadé dans Supabase :\", upload_response)\n",
    "else:\n",
    "    print(\"Lien introuvable sur la page DARES. Erreur lors du téléchargement du fichier :\", {href_cible})\n"
   ]
  }
 ],
 "metadata": {
  "kernelspec": {
   "display_name": ".venv",
   "language": "python",
   "name": "python3"
  },
  "language_info": {
   "codemirror_mode": {
    "name": "ipython",
    "version": 3
   },
   "file_extension": ".py",
   "mimetype": "text/x-python",
   "name": "python",
   "nbconvert_exporter": "python",
   "pygments_lexer": "ipython3",
   "version": "3.12.11"
  }
 },
 "nbformat": 4,
 "nbformat_minor": 5
}
